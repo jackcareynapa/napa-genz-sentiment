{
 "cells": [
  {
   "cell_type": "code",
   "execution_count": null,
   "id": "62ecc661",
   "metadata": {
    "vscode": {
     "languageId": "plaintext"
    }
   },
   "outputs": [],
   "source": [
    "# notebooks/exploration.ipynb\n",
    "\n",
    "import pandas as pd\n",
    "import seaborn as sns\n",
    "import matplotlib.pyplot as plt\n",
    "from wordcloud import WordCloud\n",
    "\n",
    "# Load data\n",
    "df = pd.read_csv('../data/napa_tweets_sentiment.csv')\n",
    "\n",
    "# Plot sentiment distribution\n",
    "sns.countplot(x='sentiment_label', data=df)\n",
    "plt.title(\"Napa Wine Twitter Sentiment\")\n",
    "plt.show()\n",
    "\n",
    "# Generate word cloud for positive tweets\n",
    "positive_text = \" \".join(df[df['sentiment_label'] == 'positive']['text'].dropna())\n",
    "wordcloud = WordCloud(width=800, height=400, background_color='white').generate(positive_text)\n",
    "plt.imshow(wordcloud, interpolation='bilinear')\n",
    "plt.axis('off')\n",
    "plt.title(\"Word Cloud – Positive Tweets\")\n",
    "plt.show()\n"
   ]
  }
 ],
 "metadata": {
  "language_info": {
   "name": "python"
  }
 },
 "nbformat": 4,
 "nbformat_minor": 5
}
